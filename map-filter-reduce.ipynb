{
 "cells": [
  {
   "cell_type": "markdown",
   "metadata": {},
   "source": [
    "# The map(), filter(), and reduce() functions for the processing of lists\n",
    "\n",
    "In this notebook, we present some functions that may be useful during the \n",
    "processing items in a list. These include the `map()`, `filter()`, and \n",
    "`reduce()`. "
   ]
  },
  {
   "cell_type": "markdown",
   "metadata": {},
   "source": [
    "## `map()` \n",
    "\n",
    "### [**Official python documentation for map()**](https://docs.python.org/3/library/functions.html#map)\n",
    "\n",
    "\n",
    "The `map()` function executes a given function on each element of an initial list and returns \n",
    "the final results as a new list. In its implementation, the `map()` function \n",
    "function works as described below: \n",
    "\n",
    "```python\n",
    "def map(f, inputList):\n",
    "    outputList = []\n",
    "    for x in inputList:\n",
    "        outputList.append(f(x))\n",
    "    return outputList\n",
    "```"
   ]
  },
  {
   "cell_type": "markdown",
   "metadata": {},
   "source": [
    "In this way, we define a function called map(). If for some reasons, you are not familiar with `functions in python`, kindly refer to [](this notebook). `map()` takes two arguments: a function `f` \n",
    "and an input list `initialList`, so `map()`is a kind of [`functionnal`](https://en.wikipedia.org/wiki/Functional_(mathematics)#:~:text=In%20mathematics%2C%20a%20functional%20(as,and%20sometimes%20even%20the%20author).&text=In%20functional%20analysis%2C%20the%20term,a%20scalar%2Dvalued%20linear%20map). The goal is to apply the function `f` on each element of the list  input list using a *for loop*. Afterwards, the result is stored in an initially empty list (the output list) that we shall call `outputList`. Finally, `map()` returns that `outputList`.\n",
    "\n",
    "\n",
    "The examples below illustrate some simple uses of the `map()` function."
   ]
  },
  {
   "cell_type": "markdown",
   "metadata": {},
   "source": [
    "#### *Example 1: Determine the length of each word in a word list*\n",
    "\n",
    "Let be a list `l` defined by: \n",
    "\n",
    "```python\n",
    "l = [\"the\", \"kangaroo\", \"green\",\"quantum\", \"leap\",\"africa\"] \n",
    "```\n",
    "We want to create a list containing the lengths of the elements. To do this, we will \n",
    "use the `len` function by specifying the list as follows:\n",
    "\n",
    "```python\n",
    "x=list(map(len, l))\n",
    "print(x) # returns [3, 8, 5, 7, 4, 6]\n",
    "```\n",
    "\n",
    "In this example, the `list()` function is only used to retrieve the results returned by the \n",
    "`map()` function as a list."
   ]
  },
  {
   "cell_type": "code",
   "execution_count": 1,
   "metadata": {},
   "outputs": [
    {
     "name": "stdout",
     "output_type": "stream",
     "text": [
      "[3, 8, 5, 7, 4, 6]\n",
      "------------------------------\n",
      "\n",
      "<map object at 0x000001EADC485B88>\n"
     ]
    }
   ],
   "source": [
    "# Implementation\n",
    "\n",
    "l = [\"the\", \"kangaroo\", \"green\",\"quantum\", \"leap\",\"africa\"]\n",
    "x = list(map(len, l))\n",
    "print(x) # returns [3, 8, 5, 7, 4, 6]\n",
    "print(\"------------------------------\\n\")\n",
    "\n",
    "# Beware that the `map()` returns an object.\n",
    "y = map(len, l)\n",
    "print(y)"
   ]
  },
  {
   "cell_type": "markdown",
   "metadata": {},
   "source": [
    "#### *Example 2: Convert all elements of a string list to lower or upper case  to upper case* \n",
    "\n",
    "```python\n",
    "l = [\"quantum\", \"leap\",\"africa\", \"AIMS-RW\", \"Kigali\"]\n",
    "x = list(map(str.lower, l)) # convert to lower case\n",
    "y = list(map(str.upper, l)) # convert to upper case\n",
    "print(x) # return ['the', 'kangaroo', 'green']\n",
    "print(y) # return ['THE', 'KANGAROO', 'GREEN']\n",
    "```"
   ]
  },
  {
   "cell_type": "code",
   "execution_count": 2,
   "metadata": {},
   "outputs": [
    {
     "name": "stdout",
     "output_type": "stream",
     "text": [
      "------------- the lower case -----------------------\n",
      "['quantum', 'leap', 'africa', 'aims-rw', 'kigali']\n",
      "\n",
      "\n",
      "------------- THE UPPER CASE -----------------------\n",
      "['QUANTUM', 'LEAP', 'AFRICA', 'AIMS-RW', 'KIGALI']\n"
     ]
    }
   ],
   "source": [
    "# Implementation\n",
    "\n",
    "l = [\"quantum\", \"leap\",\"africa\", \"AIMS-RW\", \"Kigali\"]\n",
    "\n",
    "print(\"------------- the lower case -----------------------\")\n",
    "x = list(map(str.lower, l)) # convert to lower case\n",
    "print(x) # return ['quantum', 'leap', 'africa', 'aims-rw', 'kigali']\n",
    "print(\"\\n\")\n",
    "\n",
    "\n",
    "print(\"------------- THE UPPER CASE -----------------------\")\n",
    "y = list(map(str.upper, l)) # convert to upper case\n",
    "print(y) # return ['QUANTUM', 'LEAP', 'AFRICA', 'AIMS-RW', 'KIGALI']"
   ]
  },
  {
   "cell_type": "markdown",
   "metadata": {},
   "source": [
    "#### *Example 3: Calculate the images of the elements of a list via some funtions*\n",
    "\n",
    "We shall use the `sqrt`, `exp` and `sin` functions.\n",
    "\n",
    "```python\n",
    "l= [1,7,4,9,8,16,134,87, 98] # define the initial list\n",
    "\n",
    "import math as m\n",
    "\n",
    "import math as m # import the sqrt function from the  math module\n",
    "x = list(map(m.sqrt, l)) \n",
    "y = list(map(m.exp, l)) \n",
    "t = list(map(m.sin, l)) \n",
    "```\n"
   ]
  },
  {
   "cell_type": "code",
   "execution_count": 3,
   "metadata": {},
   "outputs": [
    {
     "name": "stdout",
     "output_type": "stream",
     "text": [
      "------------------------------------------------ sqrt function ----------------------------------------------\n",
      "\n",
      "[2.6457513110645907, 3.0, 2.8284271247461903, 4.0, 11.575836902790225, 9.327379053088816]\n",
      "\n",
      "\n",
      "\n",
      "------------------------------------------------ exp function ----------------------------------------------\n",
      "\n",
      "[1096.6331584284585, 8103.083927575384, 2980.9579870417283, 8886110.520507872, 1.568413511681964e+58, 6.076030225056872e+37]\n",
      "\n",
      "\n",
      "------------------------------------------------ sin function ----------------------------------------------\n",
      "\n",
      "[0.6569865987187891, 0.4121184852417566, 0.9893582466233818, -0.2879033166650653, 0.8859248164599484, -0.8218178366308225]\n",
      "\n",
      "\n"
     ]
    }
   ],
   "source": [
    "# Implementation\n",
    "\n",
    "l= [7,9,8,16,134,87] # define the initial list\n",
    "\n",
    "import math as m # import the math module\n",
    "\n",
    "\n",
    "print(\"------------------------------------------------ sqrt function ----------------------------------------------\\n\")\n",
    "x = list(map(m.sqrt, l))\n",
    "print(x) \n",
    "print(\"\\n\\n\")\n",
    "\n",
    "print(\"------------------------------------------------ exp function ----------------------------------------------\\n\")\n",
    "y = list(map(m.exp, l))\n",
    "print(y) \n",
    "print(\"\\n\")\n",
    "\n",
    "print(\"------------------------------------------------ sin function ----------------------------------------------\\n\")\n",
    "t = list(map(m.sin, l)) \n",
    "print(t) \n",
    "print(\"\\n\")\n",
    "\n"
   ]
  },
  {
   "cell_type": "markdown",
   "metadata": {},
   "source": [
    "#### *Example 4: Application of a user-defined function*\n",
    "\n",
    "In the above examples, the `map()` function has been executed from the functions already \n",
    "available in the standard python modules, built in the language. \n",
    "But in many situations, the user has to write his own function to be able to define the tasks he wants to \n",
    "apply with the map() function. \n",
    "\n",
    "\n",
    "We wish to apply the function map() on a function which returns the remainder of the division by 7 \n",
    "of the elements of a list defined by \n",
    "\n",
    "```python\n",
    "l=[2, 5, 7, 17, 33, 21, 12, 50]\n",
    "```\n",
    "\n",
    "\n",
    "In this case, we will first define a function that returns the remainder of the division by 7. We \n",
    "the following steps: \n",
    "\n",
    "```python\n",
    "def restBySeven(x) : \n",
    "    return x % 7\n",
    "```\n",
    "\n",
    "We named the function `restBySeven`, which takes as argument `x` and returns the \n",
    "remainder of the division of `x` by `2` with the modulo operator `%`. By subjecting this function to the \n",
    "function `map()`, `x` will successively take the values of the initial list `l`. Thus we have : \n",
    "\n",
    "```python\n",
    "restList = list(map (restBySeven, l)) \n",
    "print(remainderList) # returns [2, 5, 0, 3, 5, 0, 5, 1]\n",
    "```"
   ]
  },
  {
   "cell_type": "code",
   "execution_count": 4,
   "metadata": {},
   "outputs": [
    {
     "name": "stdout",
     "output_type": "stream",
     "text": [
      "[2, 5, 0, 3, 5, 0, 5, 1]\n"
     ]
    }
   ],
   "source": [
    "# Implementation\n",
    "\n",
    "l=[2, 5, 7, 17, 33, 21, 12, 50]\n",
    "\n",
    "def restBySeven(x) : \n",
    "    return x % 7\n",
    "\n",
    "remainderList = list(map (restBySeven, l)) \n",
    "print(remainderList) # returns [2, 5, 0, 3, 5, 0, 5, 1]"
   ]
  },
  {
   "cell_type": "markdown",
   "metadata": {},
   "source": [
    "##  `filter()`\n",
    "\n",
    "\n",
    "### [**Official python documentation for filter()**](https://docs.python.org/3/library/functions.html#filter)\n",
    "\n",
    "As the name indicates, `filter()` allows you to put a filter on the elements of a list in order to return those that meet some conditions defined by the filter.  Note that `the filter()` function always runs conditional statements, unlike the map() function. "
   ]
  },
  {
   "cell_type": "markdown",
   "metadata": {},
   "source": [
    "### *Example 1: Return all alphabetical elements in a list*\n",
    "\n",
    "Let the list `l` be defined by : \n",
    " \n",
    " \n",
    "```python \n",
    "l=['x', 'y', '2', '3', 'a']  \n",
    "```\n",
    "We want to build a new list containing only alphabetical elements \n",
    "(excluding then the numerical elements).  Observe that all the elements are of `str` type (but not all are alphabetical). We do : \n",
    "    \n",
    "\n",
    "```python \n",
    "x=list(filter(str.isalpha,l ))\n",
    "print(x) # returns ['x', 'y', 'a']\n",
    "```\n",
    "\n",
    "\n",
    "The `isalpha` function is a Boolean operator that checks if a given string is \n",
    "alphabetical or not. "
   ]
  },
  {
   "cell_type": "code",
   "execution_count": 5,
   "metadata": {},
   "outputs": [
    {
     "name": "stdout",
     "output_type": "stream",
     "text": [
      "['x', 'y', 'a', 'te']\n",
      "-----------------------------------------\n",
      "\n"
     ]
    }
   ],
   "source": [
    "# Implementation 1\n",
    "\n",
    "l=['x', 'y', '2', '3', 'a', 'te'] \n",
    "list_alpha = list(filter(str.isalpha,l ))\n",
    "print(list_alpha) # returns ['x', 'y', 'a','te']\n",
    "print(\"-----------------------------------------\\n\")\n",
    "\n"
   ]
  },
  {
   "cell_type": "code",
   "execution_count": 6,
   "metadata": {},
   "outputs": [
    {
     "name": "stdout",
     "output_type": "stream",
     "text": [
      "['x', 'y', 'a', 'te']\n"
     ]
    }
   ],
   "source": [
    "# Implementation 2\n",
    "# This is the list comprehension operation:\n",
    "l=['x', 'y', '2', '3', 'a', 'te'] \n",
    "list_alpha2 = [i for i in l if i.isalpha()==True]\n",
    "print(list_alpha2) # returns ['x', 'y', 'a','te']"
   ]
  },
  {
   "cell_type": "markdown",
   "metadata": {},
   "source": [
    "### *Example 2 : Retrieve the odd numbers from a list*\n",
    "\n",
    "Let the initial list be defined by : \n",
    "   \n",
    "\n",
    "```python\n",
    "l = [2, 5, 7, 17, 33, 21, 12, 50] \n",
    "```\n",
    "\n",
    "We want to apply the `filter()` function from a function that identifies the odd numbers in this list. \n",
    "odd numbers in this list. Here we will have to develop a small function that performs this\n",
    "task. We have :\n",
    "\n",
    "```python\n",
    "def odd(x):\n",
    "  if x % 2 !=0:\n",
    "      return x \n",
    "impairList=list(filter(impair, l)) \n",
    "print(impairList) # return [5, 7, 17, 33, 21]  \n",
    "``` "
   ]
  },
  {
   "cell_type": "code",
   "execution_count": 7,
   "metadata": {},
   "outputs": [
    {
     "name": "stdout",
     "output_type": "stream",
     "text": [
      "[22309, 7, 7, 15, 53, 221, 271]\n"
     ]
    }
   ],
   "source": [
    "# Implementation\n",
    "\n",
    "\n",
    "l = [22309, 7, 7, 15, 53, 221, 412, 7050, 234, 271] \n",
    "def odd(x):\n",
    "  if x % 2 !=0:\n",
    "      return x \n",
    "    \n",
    "impairList=list(filter(odd, l)) \n",
    "\n",
    "print(impairList) # return [22309, 7, 7, 15, 53, 221, 271]\n"
   ]
  },
  {
   "cell_type": "markdown",
   "metadata": {},
   "source": [
    "### *Example 3: Return all elements of a list that contain a given pattern*.\n",
    "\n",
    "Let be the list defined by :\n",
    " \n",
    "```python \n",
    "l = [ \"the\", \"kangaroo\", \"green\",\"quantum\",\"leap\",\"afrique\" ] \n",
    "```\n",
    "\n",
    "We want to retrieve all the elements of the list that contain \"e\". \n",
    "\n",
    "To do this, we first define a small function as follows: \n",
    "```python\n",
    "f= lambda x: \"e\" or \"n\" in x \n",
    "eList=list(filter(f, l))\n",
    "print(eList) # returns ['the', 'green','leap', 'afrique']\n",
    "```"
   ]
  },
  {
   "cell_type": "code",
   "execution_count": 8,
   "metadata": {},
   "outputs": [
    {
     "name": "stdout",
     "output_type": "stream",
     "text": [
      "['the', 'green', 'leap', 'afrique']\n"
     ]
    }
   ],
   "source": [
    "# Implementation\n",
    "l = [ \"the\", \"kangaroo\", \"green\",\"quantum\",\"leap\",\"afrique\" ]\n",
    "\n",
    "f = lambda x: \"e\" in x \n",
    "eList = list(filter(f, l))\n",
    "print(eList) # returns ['the', 'green','leap', 'afrique']"
   ]
  },
  {
   "cell_type": "markdown",
   "metadata": {},
   "source": [
    "### *Example 4: Return all elements of a list whose length is greater than a  certain values* \n",
    "Let the list `l` be the following: \n",
    " \n",
    "```python \n",
    "l = [ \"the\", \"kangaroo\", \"green\",\"quantum\",\"leap\",\"afrique\",\"Kigali\",\"Rwanda\" ] \n",
    "```\n",
    "\n",
    "We want to return all the elements whose length is greater than $5$. \n",
    "\n",
    "Here also, we can use the lambda function since the instruction to be executed does not require \n",
    "a traditional function. Thus, we have : \n",
    "\n",
    "```python\n",
    "len_greater_5= lambda x: len(x)>5 \n",
    "lenList=list(filter(len_greater_5, l))\n",
    "print(lenList) # ['kangaroo', 'quantum', 'afrique']\n",
    "```"
   ]
  },
  {
   "cell_type": "code",
   "execution_count": 9,
   "metadata": {},
   "outputs": [
    {
     "name": "stdout",
     "output_type": "stream",
     "text": [
      "['kangaroo', 'quantum', 'afrique', 'Kigali', 'Rwanda']\n"
     ]
    }
   ],
   "source": [
    "# Implementation\n",
    "\n",
    "\n",
    "\n",
    "l = [ \"the\", \"kangaroo\", \"green\",\"quantum\",\"leap\",\"afrique\",\"Kigali\",\"Rwanda\" ] \n",
    "\n",
    "len_greater_5= lambda x: len(x)>5 \n",
    "\n",
    "len_greater_6= lambda x: len(x)>6 \n",
    "lenList=list(filter(len_greater_5, l))\n",
    "print(lenList) # returns ['kangaroo', 'quantum', 'afrique']\n"
   ]
  },
  {
   "cell_type": "markdown",
   "metadata": {},
   "source": [
    "##  `reduce()`\n",
    "\n",
    "\n",
    "### [**Official python documentation for reduce()**](https://python-reference.readthedocs.io/en/latest/docs/functions/reduce.html)\n",
    "\n",
    "\n",
    "The `reduce()` function is the third function of the `map()-filter()-reduce()` trio whose role is to return synthetic information from a set of values defined by a list. Generally speaking, the `reduce()` function usually returns a value, while the `map()` and `filter()` functions return lists.  For recent versions of python `reduce()` is no longer a \n",
    "function of the standard python library but rather has been integrated in the **functools \n",
    "module**. Hence in order to use the `reduce()` function, one has to first import the **functools \n",
    "module**.\n",
    "\n",
    "```python\n",
    "import functools \n",
    "\n",
    "from functools import reduce\n",
    "```"
   ]
  },
  {
   "cell_type": "markdown",
   "metadata": {},
   "source": [
    "### *Example 1: Common mathematical operations:*\n",
    "\n",
    "*Get the maximum of a list*\n",
    "```python\n",
    "reduce(max, [5,8,3,1]) # returns 8\n",
    "```\n",
    "\n",
    "*Sum of the elements of a list*\n",
    "```\n",
    "import operator\n",
    "reduce(operator.add, [1,2,3]) # returns 6 \n",
    "```\n",
    "\n",
    "To see the complete list of python arithmetic operators as functions \n",
    "see [this page](https://docs.python.org/3/library/operator.html)."
   ]
  },
  {
   "cell_type": "code",
   "execution_count": 10,
   "metadata": {},
   "outputs": [
    {
     "name": "stdout",
     "output_type": "stream",
     "text": [
      "34\n",
      "------------------\n"
     ]
    },
    {
     "data": {
      "text/plain": [
       "77"
      ]
     },
     "execution_count": 10,
     "metadata": {},
     "output_type": "execute_result"
    }
   ],
   "source": [
    "# Implementation\n",
    "\n",
    "import functools \n",
    "from functools import reduce\n",
    "\n",
    "print(reduce(max, [5,8,3,1,5,12,9,34])) # returns 34\n",
    "print(\"------------------\")\n",
    "\n",
    "\n",
    "import operator\n",
    "reduce(operator.add, [5,8,3,1,5,12,9,34]) # returns 77 \n"
   ]
  },
  {
   "cell_type": "markdown",
   "metadata": {},
   "source": [
    "### *Example 2: Performing operations on lists* \n",
    "\n",
    "*Concatenation of lists* \n",
    "```python\n",
    "reduce(operator.concat, [[1,2],[3,4],[],[5]], []) # returns  [1,2,3,4,5]\n",
    "```\n",
    "\n",
    "\n",
    "*Joining elements of a list*\n",
    "\n",
    "```python\n",
    "f=lambda s,x: s+str(x)\n",
    "reduce(f, [1,2,3,4], '') # returns '1234\n",
    "```"
   ]
  },
  {
   "cell_type": "code",
   "execution_count": 11,
   "metadata": {},
   "outputs": [
    {
     "name": "stdout",
     "output_type": "stream",
     "text": [
      "[34, 5, 78, [10, 27], 1, 2, 3, 4, 5]\n",
      "-------------------------------------\n"
     ]
    },
    {
     "data": {
      "text/plain": [
       "'35781234'"
      ]
     },
     "execution_count": 11,
     "metadata": {},
     "output_type": "execute_result"
    }
   ],
   "source": [
    "# Implementation\n",
    "\n",
    "print(reduce(operator.concat, [[1,2],[3,4],[],[5]], [34,5,78, [10,27]])) # returns  [34, 5, 78, [10, 27], 1, 2, 3, 4, 5]\n",
    "\n",
    "print(\"-------------------------------------\")\n",
    "\n",
    "f=lambda s,x: s+str(x)\n",
    "reduce(f, [3,5,78,12,34], '') # returns '1234"
   ]
  },
  {
   "cell_type": "markdown",
   "metadata": {},
   "source": [
    "You can get access to the documentation of `reduce()` by doing:\n",
    "\n",
    "```python\n",
    "reduce?\n",
    "```\n",
    "so that you understand better the above implementations"
   ]
  },
  {
   "cell_type": "code",
   "execution_count": null,
   "metadata": {},
   "outputs": [],
   "source": [
    "reduce?"
   ]
  }
 ],
 "metadata": {
  "kernelspec": {
   "display_name": "Python 3",
   "language": "python",
   "name": "python3"
  },
  "language_info": {
   "codemirror_mode": {
    "name": "ipython",
    "version": 3
   },
   "file_extension": ".py",
   "mimetype": "text/x-python",
   "name": "python",
   "nbconvert_exporter": "python",
   "pygments_lexer": "ipython3",
   "version": "3.7.4"
  }
 },
 "nbformat": 4,
 "nbformat_minor": 2
}
